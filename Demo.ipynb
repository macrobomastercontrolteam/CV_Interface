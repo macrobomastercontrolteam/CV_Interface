{
 "cells": [
  {
   "cell_type": "markdown",
   "id": "fbb76f7b",
   "metadata": {},
   "source": [
    "# Setup"
   ]
  },
  {
   "cell_type": "code",
   "execution_count": null,
   "id": "cab1299c",
   "metadata": {},
   "outputs": [],
   "source": [
    "import CvCmdApi\n",
    "CvCmder = CvCmdApi.CvCmdHandler('COM19', 1280, 720, 100)"
   ]
  },
  {
   "attachments": {},
   "cell_type": "markdown",
   "id": "463e7678",
   "metadata": {},
   "source": [
    "# Demo"
   ]
  },
  {
   "cell_type": "code",
   "execution_count": null,
   "id": "df2dc3ff",
   "metadata": {},
   "outputs": [],
   "source": [
    "import keyboard\n",
    "import time\n",
    "from ipywidgets import widgets\n",
    "gimbal_coordinate_x_Slider = widgets.IntSlider(min=0,max=640,step=1,description='coordinate_x:',value=0)\n",
    "gimbal_coordinate_y_Slider = widgets.IntSlider(min=0,max=480,step=1,description='coordinate_y:',value=0)\n",
    "chassis_speed_x_Slider = widgets.FloatSlider(min=-1,max=1,step=0.01,description='speed_x:',value=0)\n",
    "chassis_speed_y_Slider = widgets.FloatSlider(min=-1,max=1,step=0.01,description='speed_y:',value=0)\n",
    "display(gimbal_coordinate_x_Slider)\n",
    "display(gimbal_coordinate_y_Slider)\n",
    "display(chassis_speed_x_Slider)\n",
    "display(chassis_speed_y_Slider)"
   ]
  },
  {
   "cell_type": "code",
   "execution_count": null,
   "id": "ec4db425",
   "metadata": {},
   "outputs": [],
   "source": [
    "oldflags = (False, False, False)\n",
    "counter = 0\n",
    "loop_delay = 0.05\n",
    "while True:\n",
    "    flags = CvCmder.CvCmd_Heartbeat(gimbal_coordinate_x_Slider.value + 1280, gimbal_coordinate_y_Slider.value + 720, chassis_speed_x_Slider.value, chassis_speed_y_Slider.value)\n",
    "    if flags != oldflags:\n",
    "        oldflags = flags\n",
    "        print(flags)\n",
    "    if counter == int(5/loop_delay):\n",
    "        CvCmder.CvCmd_Shoot()\n",
    "    counter += 1\n",
    "    time.sleep(loop_delay)"
   ]
  },
  {
   "cell_type": "code",
   "execution_count": null,
   "id": "06b2bc04",
   "metadata": {},
   "outputs": [],
   "source": [
    "print(CvCmder.ShootSwitch)"
   ]
  },
  {
   "cell_type": "code",
   "execution_count": null,
   "id": "7cd27566",
   "metadata": {},
   "outputs": [],
   "source": [
    "oldflags = (False, False, False)\n",
    "while True:\n",
    "    if keyboard.is_pressed('s'):\n",
    "        chassis_speed_y_Slider.value += -0.02\n",
    "    elif keyboard.is_pressed('w'):\n",
    "        chassis_speed_y_Slider.value += 0.02\n",
    "    elif keyboard.is_pressed('a'):\n",
    "        chassis_speed_x_Slider.value += -0.02\n",
    "    elif keyboard.is_pressed('d'):\n",
    "        chassis_speed_x_Slider.value += 0.02\n",
    "    elif keyboard.is_pressed('q'):\n",
    "        break\n",
    "\n",
    "    flags = CvCmder.CvCmd_Heartbeat(gimbal_coordinate_x=chassis_speed_x_Slider.value+1280,gimbal_coordinate_y=chassis_speed_y_Slider.value+720,chassis_speed_x=chassis_speed_x_Slider.value,chassis_speed_y=chassis_speed_y_Slider.value)\n",
    "    if flags != oldflags:\n",
    "        oldflags = flags\n",
    "        print(flags)\n",
    "    time.sleep(0.050)"
   ]
  },
  {
   "cell_type": "code",
   "execution_count": null,
   "id": "ec4db425",
   "metadata": {},
   "outputs": [],
   "source": [
    "CvCmder.ser.close()"
   ]
  },
  {
   "cell_type": "code",
   "execution_count": null,
   "id": "bf2bb308",
   "metadata": {},
   "outputs": [],
   "source": [
    "CvCmder.ser.open()"
   ]
  },
  {
   "cell_type": "code",
   "execution_count": null,
   "id": "1a719838",
   "metadata": {},
   "outputs": [],
   "source": [
    "CvCmder.ser.read(CvCmder.ser.in_waiting)"
   ]
  },
  {
   "cell_type": "code",
   "execution_count": null,
   "id": "5fded13b",
   "metadata": {},
   "outputs": [],
   "source": [
    "CvCmder.CvCmd_Reset()"
   ]
  },
  {
   "cell_type": "markdown",
   "id": "5f1a0bd9",
   "metadata": {},
   "source": [
    "## Unit test"
   ]
  },
  {
   "cell_type": "code",
   "execution_count": null,
   "id": "bea0ecb2",
   "metadata": {},
   "outputs": [],
   "source": [
    "counter = 0\n",
    "while counter <= 6:\n",
    "    CvCmder.ser.write(CvCmder.txAckMsg)\n",
    "    counter += 1\n",
    "    time.sleep(0.1)"
   ]
  },
  {
   "cell_type": "code",
   "execution_count": null,
   "id": "ce15bb6c",
   "metadata": {},
   "outputs": [],
   "source": [
    "(gimbal_coordinate_x, gimbal_coordinate_y, chassis_speed_x, chassis_speed_y) = (300, 400, 0, 0)\n",
    "CvCmder.CvCmd_ConditionSignals()\n",
    "CvCmder.txCvCmdMsg[CvCmder.DATA_PAYLOAD_INDEX:CvCmder.DATA_PAYLOAD_INDEX+16] = struct.pack('<ffff', CvCmder.gimbal_cmd_delta_yaw, CvCmder.gimbal_cmd_delta_pitch, CvCmder.chassis_cmd_speed_x, CvCmder.chassis_cmd_speed_y)\n",
    "# test min separation time\n",
    "CvCmder.ser.write(CvCmder.txAckMsg)\n",
    "while True:\n",
    "    CvCmder.ser.write(CvCmder.txCvCmdMsg)\n",
    "    time.sleep(0.002)"
   ]
  },
  {
   "cell_type": "code",
   "execution_count": null,
   "id": "e1f1c30d",
   "metadata": {},
   "outputs": [],
   "source": [
    "# incomplete/invalid msg\n",
    "CvCmder.ser.write(CvCmder.txAckMsg[:10])\n",
    "CvCmder.ser.write(CvCmder.txAckMsg[5:])"
   ]
  },
  {
   "cell_type": "code",
   "execution_count": null,
   "id": "0b4d8308",
   "metadata": {},
   "outputs": [],
   "source": [
    "# Find corrupted package\n",
    "stop = False\n",
    "while ~stop:\n",
    "    bytesRead = CvCmder.ser.read(CvCmder.ser.in_waiting)\n",
    "    dataPackets = re.findall(CvCmder.eSepChar.CHAR_STX.value + CvCmder.eMsgType.MSG_MODE_CONTROL.value + b\".\" + CvCmder.eSepChar.CHAR_UNUSED.value + b\"{11}\" + CvCmder.eSepChar.CHAR_ETX.value, bytesRead)\n",
    "    for i in dataPackets:\n",
    "        if i !=b'\\x3E\\x3E\\x10\\x02\\xff\\xff\\xff\\xff\\xff\\xff\\xff\\xff\\xff\\xff\\xff':\n",
    "            print(dataPackets)\n",
    "            stop = True\n",
    "            break"
   ]
  }
 ],
 "metadata": {
  "kernelspec": {
   "display_name": "Python 3",
   "language": "python",
   "name": "python3"
  },
  "language_info": {
   "codemirror_mode": {
    "name": "ipython",
    "version": 3
   },
   "file_extension": ".py",
   "mimetype": "text/x-python",
   "name": "python",
   "nbconvert_exporter": "python",
   "pygments_lexer": "ipython3",
   "version": "3.6.9"
  },
  "vscode": {
   "interpreter": {
    "hash": "35be2c1b6ac9976a45ae99aba197dafc6f2e6958aebaedb8681b869a8bee737f"
   }
  }
 },
 "nbformat": 4,
 "nbformat_minor": 5
}
