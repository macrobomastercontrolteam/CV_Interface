{
 "cells": [
  {
   "cell_type": "markdown",
   "id": "fbb76f7b",
   "metadata": {},
   "source": [
    "# Setup"
   ]
  },
  {
   "cell_type": "code",
   "execution_count": 1,
   "id": "2279f60e",
   "metadata": {},
   "outputs": [],
   "source": [
    "import time\n",
    "import serial\n",
    "# ser = serial.Serial(port='/dev/serial0',baudrate=9600,parity=serial.PARITY_NONE,stopbits=serial.STOPBITS_ONE,bytesize=serial.EIGHTBITS,timeout=1)\n",
    "ser = serial.Serial(port='COM9',baudrate=9600,parity=serial.PARITY_NONE,stopbits=serial.STOPBITS_ONE,bytesize=serial.EIGHTBITS,timeout=1)"
   ]
  },
  {
   "cell_type": "code",
   "execution_count": 8,
   "id": "cab1299c",
   "metadata": {},
   "outputs": [],
   "source": [
    "from enum import Enum\n",
    "import time\n",
    "import serial\n",
    "import struct\n",
    "\n",
    "\n",
    "class CvCmdHandler:\n",
    "    # misc constants\n",
    "    DATA_PACKAGE_SIZE = 15\n",
    "    DATA_PAYLOAD_INDEX = 2\n",
    "\n",
    "    class eMsgType(Enum):\n",
    "        MSG_MODE_CONTROL = b'\\x10'\n",
    "        MSG_CV_CMD = b'\\x20'\n",
    "        MSG_ACK = b'\\x40'\n",
    "\n",
    "    class eSepChar(Enum):  # start and ending hexes, acknowledgement bit\n",
    "        CHAR_STX = b'\\x02'\n",
    "        CHAR_ETX = b'\\x03'\n",
    "        ACK_ASCII = b'ACK'\n",
    "        CHAR_UNUSED = b'\\xFF'\n",
    "\n",
    "    class eCvCmdState(Enum):\n",
    "        CMD_STATE_INIT = 0\n",
    "        CMD_STATE_WAIT_FOR_STX = 1\n",
    "        CMD_STATE_READ_PAYLOAD = 2\n",
    "\n",
    "    class eModeControlBits(Enum):\n",
    "        MODE_AUTO_AIM_BIT = 0b00000001\n",
    "        MODE_AUTO_MOVE_BIT = 0b00000010\n",
    "        MODE_ENEMY_DETECTED_BIT = 0b00000100\n",
    "\n",
    "    def __init__(self):\n",
    "        self.Heartbeat_State = self.eCvCmdState.CMD_STATE_INIT\n",
    "        self.AutoAimSwitch = False\n",
    "        self.AutoMoveSwitch = False\n",
    "        self.EnemySwitch = False\n",
    "        self.rxSwitchBuffer = 0\n",
    "\n",
    "        self.ser = serial.Serial(port='/dev/serial0', baudrate=9600, parity=serial.PARITY_NONE, stopbits=serial.STOPBITS_ONE, bytesize=serial.EIGHTBITS, timeout=1)\n",
    "        # self.ser = serial.Serial(port='COM9', baudrate=9600, parity=serial.PARITY_NONE, stopbits=serial.STOPBITS_ONE, bytesize=serial.EIGHTBITS, timeout=1)\n",
    "\n",
    "        self.txCvCmdMsg = bytearray(self.eSepChar.CHAR_STX.value + self.eMsgType.MSG_CV_CMD.value + self.CHAR_UNUSED.value*12 + self.eSepChar.CHAR_ETX.value)\n",
    "        # txAckMsg is always the same, so use the immutable bytes object\n",
    "        self.txAckMsg = b''.join([self.eSepChar.CHAR_STX.value, self.eMsgType.ACK_ASCII.value, self.CHAR_UNUSED.value*11, self.eSepChar.CHAR_ETX.value])\n",
    "        assert (len(self.txCvCmdMsg) == self.DATA_PACKAGE_SIZE)\n",
    "        assert (len(self.txAckMsg) == self.DATA_PACKAGE_SIZE)\n",
    "\n",
    "    def get_AutoAimMode(self):\n",
    "        return self.AutoAimSwitch\n",
    "\n",
    "    def get_AutoMoveMode(self):\n",
    "        return self.AutoMoveSwitch\n",
    "\n",
    "    def get_EnemyMode(self):\n",
    "        return self.EnemySwitch\n",
    "\n",
    "    # @param[in] gimbal_coordinate_x and gimbal_coordinate_y: type is int; must be positive; will be converted to uint16_t\n",
    "    # @param[in] chassis_speed_x and chassis_speed_y: type is float; can be positive/negative; will be converted to float (32 bits)\n",
    "    def sendCmd(self, gimbal_coordinate_x, gimbal_coordinate_y, chassis_speed_x, chassis_speed_y):\n",
    "        # print(\"Printing CvCmd data\")\n",
    "        self.txCvCmdMsg[self.DATA_PAYLOAD_INDEX:self.DATA_PAYLOAD_INDEX+12] = b''.join([gimbal_coordinate_x.to_bytes(2, 'little'), gimbal_coordinate_y.to_bytes(2, 'little'), struct.pack('<f', chassis_speed_x), struct.pack('<f', chassis_speed_y)])\n",
    "        ser.write(self.txCvCmdMsg)\n",
    "\n",
    "    def CvCmd_Heartbeat(self, gimbal_coordinate_x, gimbal_coordinate_y, chassis_speed_x, chassis_speed_y):\n",
    "        if self.AutoAimSwitch or self.AutoMoveSwitch:\n",
    "            self.sendCmd(gimbal_coordinate_x, gimbal_coordinate_y, chassis_speed_x, chassis_speed_y)\n",
    "        self.CvCmd_RxHeartbeat()\n",
    "        return (self.AutoAimSwitch, self.AutoMoveSwitch, self.EnemySwitch)\n",
    "\n",
    "    def CvCmd_RxHeartbeat(self):\n",
    "        if self.Heartbeat_State == self.eCvCmdState.CMD_STATE_INIT:\n",
    "            self.AutoAimSwitch = False\n",
    "            self.AutoMoveSwitch = False\n",
    "            self.EnemySwitch = False\n",
    "\n",
    "            if ~self.ser.is_open:\n",
    "                self.ser.open()\n",
    "            ser.reset_input_buffer()\n",
    "            ser.reset_output_buffer()\n",
    "\n",
    "            print(\"Reactor online. Sensors online. Weapons online. All systems nominal.\\n\")\n",
    "            self.Heartbeat_State = self.eCvCmdState.CMD_STATE_WAIT_FOR_STX\n",
    "\n",
    "        elif self.Heartbeat_State == self.eCvCmdState.CMD_STATE_WAIT_FOR_STX:\n",
    "            # polling for control msg, if any msg received, ACK back\n",
    "            if ser.in_waiting >= self.DATA_PACKAGE_SIZE:\n",
    "                # read_until returns b'' or b'\\x...\\x02' or '\\x02'. The point is it contains bytes up to b'\\x02'\n",
    "                bytesUpToStx = ser.read_until(self.CHAR_STX.value, size=1)\n",
    "                if bytesUpToStx and (bytesUpToStx[-1] == int.from_bytes(self.CHAR_STX.value, 'little')):\n",
    "                    self.Heartbeat_State = self.eCvCmdState.CMD_STATE_READ_PAYLOAD\n",
    "                else:\n",
    "                    ser.reset_input_buffer()\n",
    "        elif self.Heartbeat_State == self.eCvCmdState.CMD_STATE_READ_PAYLOAD:\n",
    "            # CHAR_STX may be the last char in the buffer when switching from CMD_STATE_WAIT_FOR_STX, so need to take care of in_waiting size here\n",
    "            if ser.in_waiting >= self.DATA_PACKAGE_SIZE-1:\n",
    "                byteRead = ser.read(1)\n",
    "                fInvalid = True\n",
    "                if byteRead == self.eMsgType.MODE_CONTROL.value:\n",
    "                    self.rxSwitchBuffer = int.from_bytes(ser.read(1), 'little')\n",
    "\n",
    "                    # check remaining payload\n",
    "                    bytesUpToEtx = ser.read_until(self.CHAR_ETX.value, size=1)\n",
    "                    if bytesUpToEtx and (bytesUpToEtx == self.CHAR_UNUSED.value*9 + self.CHAR_ETX.value):\n",
    "                        self.AutoAimSwitch = self.rxSwitchBuffer & self.MODE_AUTO_AIM_BIT.value\n",
    "                        self.AutoMoveSwitch = self.rxSwitchBuffer & self.MODE_AUTO_MOVE_BIT.value\n",
    "                        self.EnemySwitch = self.rxSwitchBuffer & self.MODE_ENEMY_DETECTED_BIT.value\n",
    "                        ser.write(self.txAckMsg)\n",
    "                        self.Heartbeat_State = self.eCvCmdState.CMD_STATE_WAIT_FOR_STX\n",
    "                        fInvalid = False\n",
    "\n",
    "                if fInvalid:\n",
    "                    # maybe reader cursor derailed; immediately look for STX again to save looping time\n",
    "                    bytesUpToStx = ser.read_until(self.CHAR_STX.value, size=1)\n",
    "                    if bytesUpToStx and (bytesUpToStx[-1] == int.from_bytes(self.CHAR_STX.value, 'little')):\n",
    "                        pass  # stay in this state; read payload of next msg\n",
    "                    else:\n",
    "                        self.Heartbeat_State = self.eCvCmdState.CMD_STATE_WAIT_FOR_STX\n"
   ]
  },
  {
   "cell_type": "code",
   "execution_count": null,
   "id": "c24a1429",
   "metadata": {},
   "outputs": [],
   "source": [
    "CvCmder = CvCmdHandler()\n",
    "while True:\n",
    "    CvCmder.CvCmd_Heartbeat(1,2,3,4)"
   ]
  },
  {
   "cell_type": "markdown",
   "id": "5f1a0bd9",
   "metadata": {},
   "source": [
    "## Unit test"
   ]
  },
  {
   "cell_type": "code",
   "execution_count": null,
   "id": "f460e34f",
   "metadata": {},
   "outputs": [],
   "source": [
    "#AutoAim_Heartbeat(10,10,1)\n",
    "from IPython.display import display, HTML\n",
    "display(HTML(\"<style>.container { width:100% !important; }</style>\"))"
   ]
  },
  {
   "cell_type": "code",
   "execution_count": null,
   "id": "bea0ecb2",
   "metadata": {},
   "outputs": [],
   "source": []
  }
 ],
 "metadata": {
  "kernelspec": {
   "display_name": "Python 3",
   "language": "python",
   "name": "python3"
  },
  "language_info": {
   "codemirror_mode": {
    "name": "ipython",
    "version": 3
   },
   "file_extension": ".py",
   "mimetype": "text/x-python",
   "name": "python",
   "nbconvert_exporter": "python",
   "pygments_lexer": "ipython3",
   "version": "3.10.10"
  },
  "vscode": {
   "interpreter": {
    "hash": "35be2c1b6ac9976a45ae99aba197dafc6f2e6958aebaedb8681b869a8bee737f"
   }
  }
 },
 "nbformat": 4,
 "nbformat_minor": 5
}
