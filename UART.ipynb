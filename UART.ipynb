{
 "cells": [
  {
   "cell_type": "markdown",
   "id": "fbb76f7b",
   "metadata": {},
   "source": [
    "# Setup"
   ]
  },
  {
   "cell_type": "code",
   "execution_count": null,
   "id": "cab1299c",
   "metadata": {},
   "outputs": [],
   "source": [
    "from enum import Enum\n",
    "import time\n",
    "import serial\n",
    "import struct\n",
    "\n",
    "\n",
    "class CvCmdHandler:\n",
    "    # misc constants\n",
    "    DATA_PACKAGE_SIZE = 15\n",
    "    DATA_PAYLOAD_INDEX = 2\n",
    "\n",
    "    class eMsgType(Enum):\n",
    "        MSG_MODE_CONTROL = b'\\x10'\n",
    "        MSG_CV_CMD = b'\\x20'\n",
    "        MSG_ACK = b'\\x40'\n",
    "\n",
    "    class eSepChar(Enum):  # start and ending hexes, acknowledgement bit\n",
    "        CHAR_STX = b'\\x02'\n",
    "        CHAR_ETX = b'\\x03'\n",
    "        ACK_ASCII = b'ACK'\n",
    "        CHAR_UNUSED = b'\\xFF'\n",
    "\n",
    "    class eRxState(Enum):\n",
    "        RX_STATE_INIT = 0\n",
    "        RX_STATE_WAIT_FOR_STX = 1\n",
    "        RX_STATE_READ_PAYLOAD = 2\n",
    "\n",
    "    class eModeControlBits(Enum):\n",
    "        MODE_AUTO_AIM_BIT = 0b00000001\n",
    "        MODE_AUTO_MOVE_BIT = 0b00000010\n",
    "        MODE_ENEMY_DETECTED_BIT = 0b00000100\n",
    "\n",
    "    def __init__(self):\n",
    "        self.Rx_State = self.eRxState.RX_STATE_INIT\n",
    "        self.AutoAimSwitch = False\n",
    "        self.AutoMoveSwitch = False\n",
    "        self.EnemySwitch = False\n",
    "        self.rxSwitchBuffer = 0\n",
    "\n",
    "        # self.ser = serial.Serial(port='/dev/serial0', baudrate=9600, parity=serial.PARITY_NONE, stopbits=serial.STOPBITS_ONE, bytesize=serial.EIGHTBITS, timeout=1)\n",
    "        self.ser = serial.Serial(port='COM9', baudrate=9600, parity=serial.PARITY_NONE, stopbits=serial.STOPBITS_ONE, bytesize=serial.EIGHTBITS, timeout=1)\n",
    "\n",
    "        self.txCvCmdMsg = bytearray(self.eSepChar.CHAR_STX.value + self.eMsgType.MSG_CV_CMD.value + self.eSepChar.CHAR_UNUSED.value*12 + self.eSepChar.CHAR_ETX.value)\n",
    "        # txAckMsg is always the same, so use the immutable bytes object\n",
    "        self.txAckMsg = b''.join([self.eSepChar.CHAR_STX.value, self.eMsgType.MSG_ACK.value, self.eSepChar.ACK_ASCII.value, self.eSepChar.CHAR_UNUSED.value*9, self.eSepChar.CHAR_ETX.value])\n",
    "        assert (len(self.txCvCmdMsg) == self.DATA_PACKAGE_SIZE)\n",
    "        assert (len(self.txAckMsg) == self.DATA_PACKAGE_SIZE)\n",
    "\n",
    "    def CvCmd_Reset(self):\n",
    "        self.Rx_State = self.eRxState.RX_STATE_INIT\n",
    "\n",
    "    # @brief main API function\n",
    "    # @param[in] gimbal_coordinate_x and gimbal_coordinate_y: type is int; must be positive; will be converted to uint16_t\n",
    "    # @param[in] chassis_speed_x and chassis_speed_y: type is float; can be positive/negative; will be converted to float (32 bits)\n",
    "    def CvCmd_Heartbeat(self, gimbal_coordinate_x, gimbal_coordinate_y, chassis_speed_x, chassis_speed_y):\n",
    "        # Tx\n",
    "        if self.AutoAimSwitch or self.AutoMoveSwitch:\n",
    "            self.txCvCmdMsg[self.DATA_PAYLOAD_INDEX:self.DATA_PAYLOAD_INDEX+12] = b''.join([gimbal_coordinate_x.to_bytes(2, 'little'), gimbal_coordinate_y.to_bytes(2, 'little'), struct.pack('<f', chassis_speed_x), struct.pack('<f', chassis_speed_y)])\n",
    "            self.ser.write(self.txCvCmdMsg)\n",
    "\n",
    "        # Rx\n",
    "        self.CvCmd_RxHeartbeat()\n",
    "        return (self.AutoAimSwitch, self.AutoMoveSwitch, self.EnemySwitch)\n",
    "\n",
    "    def CvCmd_RxHeartbeat(self):\n",
    "        if self.Rx_State == self.eRxState.RX_STATE_INIT:\n",
    "            self.AutoAimSwitch = False\n",
    "            self.AutoMoveSwitch = False\n",
    "            self.EnemySwitch = False\n",
    "            \n",
    "            if not self.ser.is_open:\n",
    "                self.ser.open()\n",
    "            self.ser.reset_input_buffer()\n",
    "            self.ser.reset_output_buffer()\n",
    "\n",
    "            # print(\"Reactor online. Sensors online. Weapons online. All systems nominal.\\n\")\n",
    "            self.Rx_State = self.eRxState.RX_STATE_WAIT_FOR_STX\n",
    "\n",
    "        elif self.Rx_State == self.eRxState.RX_STATE_WAIT_FOR_STX:\n",
    "            # polling for control msg, if any msg received, ACK back\n",
    "            if self.ser.in_waiting >= self.DATA_PACKAGE_SIZE:\n",
    "                # read_until returns b'' or b'\\x...\\x02' or '\\x02'. The point is it contains bytes up to b'\\x02'\n",
    "                bytesUpToStx = self.ser.read_until(self.eSepChar.CHAR_STX.value)\n",
    "                if bytesUpToStx and (bytesUpToStx[-1] == int.from_bytes(self.eSepChar.CHAR_STX.value, 'little')):\n",
    "                    self.Rx_State = self.eRxState.RX_STATE_READ_PAYLOAD\n",
    "                else:\n",
    "                    self.ser.reset_input_buffer()\n",
    "\n",
    "        elif self.Rx_State == self.eRxState.RX_STATE_READ_PAYLOAD:\n",
    "            # CHAR_STX may be the last char in the buffer when switching from RX_STATE_WAIT_FOR_STX, so need to take care of in_waiting size here\n",
    "            if self.ser.in_waiting >= self.DATA_PACKAGE_SIZE-1:\n",
    "                byteRead = self.ser.read(1)\n",
    "                fInvalid = True\n",
    "                if byteRead == self.eMsgType.MSG_MODE_CONTROL.value:\n",
    "                    self.rxSwitchBuffer = int.from_bytes(self.ser.read(1), 'little')\n",
    "\n",
    "                    # check remaining payload\n",
    "                    bytesUpToEtx = self.ser.read_until(self.eSepChar.CHAR_ETX.value)\n",
    "                    if bytesUpToEtx and (bytesUpToEtx == self.eSepChar.CHAR_UNUSED.value*11 + self.eSepChar.CHAR_ETX.value):\n",
    "                        self.AutoAimSwitch = bool(self.rxSwitchBuffer & self.eModeControlBits.MODE_AUTO_AIM_BIT.value)\n",
    "                        self.AutoMoveSwitch = bool(self.rxSwitchBuffer & self.eModeControlBits.MODE_AUTO_MOVE_BIT.value)\n",
    "                        self.EnemySwitch = bool(self.rxSwitchBuffer & self.eModeControlBits.MODE_ENEMY_DETECTED_BIT.value)\n",
    "                        self.ser.write(self.txAckMsg)\n",
    "                        self.Rx_State = self.eRxState.RX_STATE_WAIT_FOR_STX\n",
    "                        fInvalid = False\n",
    "\n",
    "                if fInvalid:\n",
    "                    # maybe reader cursor derailed; immediately look for STX again to save looping time\n",
    "                    bytesUpToStx = self.ser.read_until(self.eSepChar.CHAR_STX.value)\n",
    "                    if bytesUpToStx and (bytesUpToStx[-1] == int.from_bytes(self.eSepChar.CHAR_STX.value, 'little')):\n",
    "                        pass  # stay in this state; read payload of next msg\n",
    "                    else:\n",
    "                        self.Rx_State = self.eRxState.RX_STATE_WAIT_FOR_STX\n",
    "\n",
    "\n",
    "CvCmder = CvCmdHandler()\n"
   ]
  },
  {
   "attachments": {},
   "cell_type": "markdown",
   "id": "463e7678",
   "metadata": {},
   "source": [
    "# Demo"
   ]
  },
  {
   "cell_type": "code",
   "execution_count": null,
   "id": "df2dc3ff",
   "metadata": {},
   "outputs": [],
   "source": [
    "startPrint = False\n",
    "while True:\n",
    "    flags = CvCmder.CvCmd_Heartbeat(300, 400, 30.12, 40.13)\n",
    "    if startPrint:\n",
    "        print(flags)\n",
    "        time.sleep(1)\n",
    "        # if True not in flags:\n",
    "        #     startPrint = False\n",
    "    elif True in flags:\n",
    "        startPrint = True\n"
   ]
  },
  {
   "cell_type": "code",
   "execution_count": null,
   "id": "ec4db425",
   "metadata": {},
   "outputs": [],
   "source": [
    "CvCmder.ser.close()"
   ]
  },
  {
   "cell_type": "code",
   "execution_count": null,
   "id": "5fded13b",
   "metadata": {},
   "outputs": [],
   "source": [
    "CvCmder.CvCmd_Reset()"
   ]
  },
  {
   "cell_type": "markdown",
   "id": "5f1a0bd9",
   "metadata": {},
   "source": [
    "## Unit test"
   ]
  },
  {
   "cell_type": "code",
   "execution_count": null,
   "id": "f460e34f",
   "metadata": {},
   "outputs": [],
   "source": [
    "#AutoAim_Heartbeat(10,10,1)\n",
    "from IPython.display import display, HTML\n",
    "display(HTML(\"<style>.container { width:100% !important; }</style>\"))"
   ]
  },
  {
   "cell_type": "code",
   "execution_count": null,
   "id": "bea0ecb2",
   "metadata": {},
   "outputs": [],
   "source": [
    "CvCmder.ser.write(CvCmder.txAckMsg)"
   ]
  },
  {
   "cell_type": "code",
   "execution_count": null,
   "id": "ce15bb6c",
   "metadata": {},
   "outputs": [],
   "source": [
    "(gimbal_coordinate_x, gimbal_coordinate_y, chassis_speed_x, chassis_speed_y) = (300, 400, 30.12, 40.13)\n",
    "CvCmder.txCvCmdMsg[CvCmder.DATA_PAYLOAD_INDEX:CvCmder.DATA_PAYLOAD_INDEX+12] = b''.join([gimbal_coordinate_x.to_bytes(2, 'little'), gimbal_coordinate_y.to_bytes(2, 'little'), struct.pack('<f', chassis_speed_x), struct.pack('<f', chassis_speed_y)])\n",
    "CvCmder.ser.write(CvCmder.txCvCmdMsg)"
   ]
  }
 ],
 "metadata": {
  "kernelspec": {
   "display_name": "Python 3",
   "language": "python",
   "name": "python3"
  },
  "language_info": {
   "codemirror_mode": {
    "name": "ipython",
    "version": 3
   },
   "file_extension": ".py",
   "mimetype": "text/x-python",
   "name": "python",
   "nbconvert_exporter": "python",
   "pygments_lexer": "ipython3",
   "version": "3.10.10"
  },
  "vscode": {
   "interpreter": {
    "hash": "35be2c1b6ac9976a45ae99aba197dafc6f2e6958aebaedb8681b869a8bee737f"
   }
  }
 },
 "nbformat": 4,
 "nbformat_minor": 5
}
