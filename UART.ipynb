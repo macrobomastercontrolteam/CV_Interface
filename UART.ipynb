{
 "cells": [
  {
   "cell_type": "code",
   "execution_count": null,
   "id": "c24e22e5",
   "metadata": {},
   "outputs": [],
   "source": [
    "for i in range(20):\n",
    "    ser.write(b'hello world')"
   ]
  },
  {
   "cell_type": "code",
   "execution_count": null,
   "id": "41f13eb4",
   "metadata": {},
   "outputs": [],
   "source": [
    "ser.write(b'hello world')"
   ]
  },
  {
   "cell_type": "markdown",
   "id": "fbb76f7b",
   "metadata": {},
   "source": [
    "# Setup"
   ]
  },
  {
   "cell_type": "code",
   "execution_count": 13,
   "id": "2279f60e",
   "metadata": {},
   "outputs": [],
   "source": [
    "import time\n",
    "import serial\n",
    "ser = serial.Serial(port='/dev/serial0',baudrate=9600,parity=serial.PARITY_NONE,stopbits=serial.STOPBITS_ONE,bytesize=serial.EIGHTBITS,timeout=1)"
   ]
  },
  {
   "cell_type": "code",
   "execution_count": 8,
   "id": "cab1299c",
   "metadata": {},
   "outputs": [],
   "source": [
    "from enum import Enum\n",
    "\n",
    "VERBOSITY_QUIET = 0\n",
    "VERBOSITY_DEBUG = 1\n",
    "Global_Verbosity = VERBOSITY_QUIET\n",
    "\n",
    "\n",
    "def set_Verbosity(verbosity):\n",
    "    Global_Verbosity = verbosity\n",
    "\n",
    "\n",
    "def printLog(str, verbosity):\n",
    "    if verbosity <= Global_Verbosity:\n",
    "        print(str)\n",
    "\n",
    "class eMsgType(Enum):\n",
    "    MSG_MODE_CONTROL = b'\\x10'\n",
    "    MSG_COORDINATE = b'\\x20'\n",
    "    MSG_ACK = b'\\x40'\n",
    "\n",
    "class eSepChar(Enum): #start and ending hexes, acknowledgement bit\n",
    "    STX_CHAR = b'\\x02'\n",
    "    ETX_CHAR = b'\\x03'\n",
    "    ACK_ASCII = b'ACK' \n",
    "    UNUSED = b'\\xFF'\n",
    "\n",
    "class eFlagNumber(Enum): #to compare what we're reading\n",
    "    OFF = 0\n",
    "    AUTO_AIM_MODE = 1 \n",
    "    AUTO_MOVE_MODE = 2 \n",
    "    ENEMY_MODE=4\n",
    "\n",
    "class eReaderState(Enum):\n",
    "    READ_STX = 0\n",
    "    READ_PAYLOAD = 1\n",
    "    READ_ERROR = 2\n",
    "\n",
    "def send_coordinates(x,y,xspeed,yspeed): #need to update this\n",
    "\tCoordinateData=eSepChar.STX_CHAR.value + eMsgType.MSG_COORDINATE.value + x.to_bytes(2,'little')+y.to_bytes(2,'little')+xspeed.to_bytes(32,'little')+yspeed.to_bytes(32,'little')+eSepChar.ETX_CHAR.value\n",
    "\tprint(\"Printing coordinate data\")\n",
    "\tprint(CoordinateData)\n",
    "\tser.write(CoordinateData)\n"
   ]
  },
  {
   "cell_type": "code",
   "execution_count": 7,
   "id": "11ef08ba",
   "metadata": {},
   "outputs": [
    {
     "ename": "IndentationError",
     "evalue": "unindent does not match any outer indentation level (<ipython-input-7-d3ae6de6eef1>, line 38)",
     "output_type": "error",
     "traceback": [
      "\u001b[0;36m  File \u001b[0;32m\"<ipython-input-7-d3ae6de6eef1>\"\u001b[0;36m, line \u001b[0;32m38\u001b[0m\n\u001b[0;31m    elif newState==eAutoAimState.AUTO_AIM_ENEMY_MODE:\u001b[0m\n\u001b[0m                                                                       ^\u001b[0m\n\u001b[0;31mIndentationError\u001b[0m\u001b[0;31m:\u001b[0m unindent does not match any outer indentation level\n"
     ]
    }
   ],
   "source": [
    "def AutoAim_Heartbeat_OLDFORREFFERENCE(x,y,xspeed,yspeed,verbosity):\n",
    "    #this is cv, arduino is control\n",
    "\ttry: #try to print your current state - if you can, they must be defined, so print them\n",
    "\t\tprintLog(AutoAim_Heartbeat.Heartbeat_State,VERBOSITY_DEBUG)\n",
    "\t\tprintLog(AutoAim_Heartbeat.Reader_State,VERBOSITY_DEBUG)\n",
    "\texcept: #if not, they are undefined, so go ahead and define them\n",
    "\t\tAutoAim_Heartbeat.Heartbeat_State = eAutoAimState.AUTO_AIM_INIT\n",
    "\t\tAutoAim_Heartbeat.Reader_State = eReaderState.READ_STX\n",
    "\t\n",
    "\tif AutoAim_Heartbeat.Heartbeat_State == eAutoAimState.AUTO_AIM_INIT:\n",
    "\t\tser.reset_input_buffer()\n",
    "\t\tser.reset_output_buffer()\n",
    "\t\tprint(\"Reactor online. Sensors online. Weapons online. All systems nominal.\\n\")\n",
    "\t\tsend_coordinates(x,y,xspeed,yspeed)\n",
    "\t\tAutoAim_Heartbeat.Heartbeat_State = eAutoAimState.AUTO_AIM_IDLE\n",
    "\t\tmsgTime=time.time()\n",
    "\telif AutoAim_Heartbeat.Heartbeat_State == eAutoAimState.AUTO_AIM_IDLE:     \n",
    "\t\tif ser.inWaiting()>0:\n",
    "\t\t\tmsgTime=time.time();\n",
    "\t\t\tif AutoAim_Heartbeat.Reader_State == eReaderState.READ_STX: \n",
    "\t\t\t\tif ser.read(1) == eSepChar.STX_CHAR.value: #check if the first bit is the STX value\n",
    "\t\t\t\t\tAutoAim_Heartbeat.Reader_State = eReaderState.READ_PAYLOAD\t#if yes, enter reading state\n",
    "\t\t\tif AutoAim_Heartbeat.Reader_State == eReaderState.READ_PAYLOAD: \n",
    "\t\t\t\tmsgType = ser.read(1)\n",
    "\t\t\t\tif msgType == eMsgType.MODE_CONTROL.value: #check if the bit you are recieving is telling you to change mode\n",
    "\t\t\t\t\tnewState = int(ser.read(1)) #read the next bit\n",
    "\t\t\t\t\tACKData = eSepChar.STX_CHAR.value + eSepChar.ACK.value + eSepChar.ACK_ASCII.value + eSepChar.UNUSED.value + eSepChar.UNUSED.value + eSepChar.UNUSED.value +eSepChar.UNUSED.value +eSepChar.UNUSED.value +eSepChar.ETX_CHAR.value\n",
    "\t\t\t\t\tif newState==eAutoAimState.AUTO_AIM_INIT: \n",
    "\t\t\t\t\t\tAutoAim_Heartbeat.Heartbeat_State = eAutoAimState.AUTO_AIM_INIT\n",
    "\t\t\t\t\t\tprint(\"I am changing my mode to initialization\\n\") \n",
    "\t\t\t\t\t\tprint(ACKData)\n",
    "\t\t\t\t\t\tser.write(ACKData)\n",
    "\t\t\t\t\telif newState==eAutoAimState.AUTO_AIM_IDLE:                  \n",
    "\t\t\t\t\t\tAutoAim_Heartbeat.Heartbeat_State = eAutoAimState.AUTO_AIM_IDLE\n",
    "\t\t\t\t\t\tprint(\"I am changing my mode to idle\\n\") \n",
    "\t\t\t\t\t\tprint(ACKData)\n",
    "\t\t\t\t\t\tser.write(ACKData)\n",
    "                    elif newState==eAutoAimState.AUTO_AIM_ENEMY_MODE:                  \n",
    "\t\t\t\t\t\tAutoAim_Heartbeat.Heartbeat_State = eAutoAimState.AUTO_AIM_ENEMY_MODE\n",
    "\t\t\t\t\t\tprint(\"I am changing my mode to enemy mode.\\n\") \n",
    "\t\t\t\t\t\tprint(ACKData)\n",
    "                    elif newState==eAutoAimState.AUTO_AIM_BOTH:                  \n",
    "\t\t\t\t\t\tAutoAim_Heartbeat.Heartbeat_State = eAutoAimState.AUTO_AIM_BOTH\n",
    "\t\t\t\t\t\tprint(\"I am changing my mode to idle\\n\") \n",
    "\t\t\t\t\t\tprint(ACKData)    \n",
    "\t\t\t\t\telif newState==eAutoAimState.AUTO_AIM_SLEEP:\n",
    "\t\t\t\t\t\tAutoAim_Heartbeat.Heartbeat_State = eAutoAimState.AUTO_AIM_SLEEP\n",
    "\t\t\t\t\t\tprint(\"I am changing my mode to waiting for sleep\\n\") \n",
    "\t\t\t\t\t\tprint(ACKData)\n",
    "\t\t\t\t\t\tser.write(ACKData)\n",
    "\t\t\t\tif msgType == eMsgType.COORDINATE:\n",
    "                    \n",
    "                else:\n",
    "\t\t\t\t\tAutoAim_Heartbeat.Reader_State = eReaderState.READ_ERROR #read something wrong, throw error\n",
    "\t\t\telse:\n",
    "\t\t\t\tprintLog(\"Unexpected AutoAim API state!\")\n",
    "\t\t\t\traise RuntimeError\n",
    "\t\telse:\n",
    "\t\t\tif(time.time() - msgTime > 5):\n",
    "\t\t\tprint(\"timed out.\")   \n",
    "\t\t\tAutoAim_Heartbeat.Heartbeat_State = eAutoAimState.AUTO_AIM_SLEEP;            \n",
    "\telif AutoAim_Heartbeat.Heartbeat_State == eAutoAimState.AUTO_AIM_SLEEP:\n",
    "\t    #send acknowledgement\n",
    "\t\tser.write(eSepChar.STX_CHAR + eMsgType.MODE_CONTROL + eSepChar.ACK_ASCII + eSepChar.ETX_CHAR ) \n",
    "\t\tprint(\"Auto aim disabled.\")\n",
    "\telse:\n",
    "\t\tprintLog(\"Unexpected AutoAim API state!\")\n",
    "\t\traise RuntimeError\n",
    "\n",
    "\n",
    "\t# CV should turn off if state is not active to save battery\n",
    "\tfCvActive = not (AutoAim_Heartbeat.Heartbeat_State in (eAutoAimState.AUTO_AIM_IDLE,eAutoAimState.AUTO_AIM_SLEEP))\n",
    "\treturn fCvActive\n",
    "\n",
    "#for the sake of testing \n",
    "AutoAim_Heartbeat(69,42,69,42,1)"
   ]
  },
  {
   "cell_type": "code",
   "execution_count": null,
   "id": "ae959905",
   "metadata": {},
   "outputs": [],
   "source": [
    "bytes(0x02).decode()"
   ]
  },
  {
   "cell_type": "code",
   "execution_count": 14,
   "id": "a2fafa32",
   "metadata": {},
   "outputs": [
    {
     "data": {
      "text/plain": [
       "(False, False, False)"
      ]
     },
     "execution_count": 14,
     "metadata": {},
     "output_type": "execute_result"
    }
   ],
   "source": [
    "#flags. IDK how global variables work with jupyter's cellular structure but this doesnt crash so\n",
    "autoAim=False\n",
    "autoMove=False\n",
    "EnemyMode=False\n",
    "\n",
    "def AutoAim_Heartbeat(x,y,xspeed,yspeed,verbosity):\n",
    "    #this is cv, arduino is control\n",
    "\tglobal autoAim\n",
    "\tglobal autoMove\n",
    "\tglobal EnemyMode    \n",
    "\ttry: #try to print your current state - if you can, they must be defined, so print them\n",
    "\t\tprintLog(AutoAim_Heartbeat.Reader_State,VERBOSITY_DEBUG)\n",
    "\texcept: #if not, they are undefined, so go ahead and define them\n",
    "\t\tAutoAim_Heartbeat.Reader_State = eReaderState.READ_STX\n",
    "\tif (autoAim):\n",
    "\t\tser.reset_input_buffer()\n",
    "\t\tser.reset_output_buffer()\n",
    "\t\tsend_coordinates(x,y,xspeed,yspeed) #send x y coordinates\n",
    "\tif autoMove:\n",
    "\t\tser.reset_input_buffer()\n",
    "\t\tser.reset_output_buffer()\n",
    "\t\tsend_coordinates(x,y,xspeed,yspeed) #send x y speed\n",
    "\tif EnemyMode:\n",
    "\t\tser.reset_input_buffer()\n",
    "\t\tser.reset_output_buffer()\n",
    "\t\t#placeholder  \n",
    "\tif ser.inWaiting()>0:\n",
    "\t\tif AutoAim_Heartbeat.Reader_State == eReaderState.READ_STX: \n",
    "\t\t\tif ser.read(1) == eSepChar.STX_CHAR.value: #check if the first bit is the STX value\n",
    "\t\t\t\tAutoAim_Heartbeat.Reader_State = eReaderState.READ_PAYLOAD\t#if yes, enter reading state\n",
    "\t\tif AutoAim_Heartbeat.Reader_State == eReaderState.READ_PAYLOAD: \n",
    "\t\t\tmsgType = int(ser.read(1))\n",
    "\t\t\tif msgType == eMsgType.MODE_CONTROL.value: #check if the bit you are recieving is telling you to change mode\n",
    "\t\t\t\tnewState = int(ser.read(1)) #read the next bit\n",
    "\t\t\t\tACKData = eSepChar.STX_CHAR.value + eSepChar.ACK_ASCII.value + eSepChar.UNUSED.value + eSepChar.UNUSED.value + eSepChar.UNUSED.value +eSepChar.UNUSED.value +eSepChar.UNUSED.value +eSepChar.ETX_CHAR.value\n",
    "\t\t\t\tif newState==eAutoAimState.AUTO_AIM_ON: \n",
    "\t\t\t\t\tautoAim= !autoAim;\n",
    "\t\t\t\t\tif autoAim:\n",
    "\t\t\t\t\t\tautoMove=False\n",
    "\t\t\t\t\t\tEnemyMode=False\n",
    "\t\t\t\t\tprint(\"Toggling on auto aim\\n\") \n",
    "\t\t\t\t\tprint(\"AutoAim: \"+autoAim)                    \n",
    "\t\t\t\t\tprint(ACKData)\n",
    "\t\t\t\t\tser.write(ACKData)\n",
    "\t\t\t\telif newState==eAutoAimState.AUTO_MOVE_MODE:  \n",
    "\t\t\t\t\tautoMove= !autoMove\n",
    "\t\t\t\t\tif autoMove:\n",
    "\t\t\t\t\t\tautoAim=False #mutually exclusive\n",
    "\t\t\t\t\t\tEnemyMode=False\n",
    "\t\t\t\t\tprint(\"Toggling on auto move\\n\") \n",
    "\t\t\t\t\tprint(\"AutoMove: \"+autoMove)                    \n",
    "\t\t\t\t\tprint(ACKData)\n",
    "\t\t\t\t\tser.write(ACKData)\n",
    "\t\t\t\tif newState==eEnemyMode_State.ENEMY_MODE_ON:\n",
    "\t\t\t\t\tEnemyMode=!EnemyMode;                    \n",
    "\t\t\t\t\tif EnemyMode:\n",
    "\t\t\t\t\t\tautoAim=False #mutually exclusive\n",
    "\t\t\t\t\t\tEnemyMode=False                    \n",
    "\t\t\t\t\tprint(\"Toggling on auto move\\n\") \n",
    "\t\t\t\t\tprint(\"AutoMove: \"+autoMove) \n",
    "\t\t\t\t\tprint(ACKData)\n",
    "\t\t\t\t\tser.write(ACKData)\n",
    "\t\t\telse:\n",
    "\t\t\t\tAutoAim_Heartbeat.Reader_State = eReaderState.READ_ERROR #read something wrong, throw error\n",
    "\t\telse:\n",
    "\t\t\tprintLog(\"Unexpected AutoAim API state!\")\n",
    "\t\t\traise RuntimeError\n",
    "\treturn  (autoAim,autoMove,EnemyMode)       \n",
    "\n",
    "AutoAim_Heartbeat(69,42,69,42,1)\n"
   ]
  },
  {
   "cell_type": "markdown",
   "id": "5f1a0bd9",
   "metadata": {},
   "source": [
    "## Unit test"
   ]
  },
  {
   "cell_type": "code",
   "execution_count": null,
   "id": "f460e34f",
   "metadata": {},
   "outputs": [],
   "source": [
    "#AutoAim_Heartbeat(10,10,1)\n",
    "from IPython.display import display, HTML\n",
    "display(HTML(\"<style>.container { width:100% !important; }</style>\"))"
   ]
  },
  {
   "cell_type": "code",
   "execution_count": null,
   "id": "bea0ecb2",
   "metadata": {},
   "outputs": [],
   "source": []
  }
 ],
 "metadata": {
  "kernelspec": {
   "display_name": "Python 3",
   "language": "python",
   "name": "python3"
  },
  "language_info": {
   "codemirror_mode": {
    "name": "ipython",
    "version": 3
   },
   "file_extension": ".py",
   "mimetype": "text/x-python",
   "name": "python",
   "nbconvert_exporter": "python",
   "pygments_lexer": "ipython3",
   "version": "3.7.3"
  },
  "vscode": {
   "interpreter": {
    "hash": "35be2c1b6ac9976a45ae99aba197dafc6f2e6958aebaedb8681b869a8bee737f"
   }
  }
 },
 "nbformat": 4,
 "nbformat_minor": 5
}
