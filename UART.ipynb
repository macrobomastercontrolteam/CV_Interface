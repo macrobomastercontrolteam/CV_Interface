{
 "cells": [
  {
   "cell_type": "code",
   "execution_count": null,
   "id": "c24e22e5",
   "metadata": {},
   "outputs": [],
   "source": [
    "for i in range(20):\n",
    "    ser.write(b'hello world')"
   ]
  },
  {
   "cell_type": "code",
   "execution_count": null,
   "id": "41f13eb4",
   "metadata": {},
   "outputs": [],
   "source": [
    "ser.write(b'hello world')"
   ]
  },
  {
   "cell_type": "markdown",
   "id": "fbb76f7b",
   "metadata": {},
   "source": [
    "# Setup"
   ]
  },
  {
   "cell_type": "code",
   "execution_count": null,
   "id": "2279f60e",
   "metadata": {},
   "outputs": [],
   "source": [
    "import time\n",
    "import serial\n",
    "ser = serial.Serial(port='/dev/serial0',baudrate=9600,parity=serial.PARITY_NONE,stopbits=serial.STOPBITS_ONE,bytesize=serial.EIGHTBITS,timeout=1)"
   ]
  },
  {
   "cell_type": "code",
   "execution_count": null,
   "id": "cab1299c",
   "metadata": {},
   "outputs": [],
   "source": [
    "from enum import Enum\n",
    "\n",
    "VERBOSITY_QUIET = 0\n",
    "VERBOSITY_DEBUG = 1\n",
    "Global_Verbosity = VERBOSITY_QUIET\n",
    "\n",
    "\n",
    "def set_Verbosity(verbosity):\n",
    "    Global_Verbosity = verbosity\n",
    "\n",
    "\n",
    "def printLog(str, verbosity):\n",
    "    if verbosity <= Global_Verbosity:\n",
    "        print(str)\n",
    "\n",
    "class eMsgType(Enum):\n",
    "    MSG_MODE_CONTROL = b'\\x10'\n",
    "    MSG_COORDINATE = b'\\x20'\n",
    "    MSG_ACK = b'\\x40'\n",
    "\n",
    "class eSepChar(Enum): #start and ending hexes, acknowledgement bit\n",
    "    STX_CHAR = b'\\x02'\n",
    "    ETX_CHAR = b'\\x03'\n",
    "    ACK_ASCII = b'ACK' \n",
    "    UNUSED = b'\\xFF'\n",
    "\n",
    "class eAutoAimState(Enum):\n",
    "    AUTO_AIM_INIT = 0 #turn on\n",
    "    AUTO_AIM_IDLE = 1 #wait\n",
    "    AUTO_AIM_SEND_COORDINATE = 2\n",
    "    AUTO_AIM_WAIT_FOR_ACK = 3\n",
    "    AUTO_AIM_SLEEP = 4 #turn off\n",
    "\n",
    "class eReaderState(Enum):\n",
    "    READ_STX = 0\n",
    "    READ_PAYLOAD = 1\n",
    "    READ_ERROR = 2\n",
    "\n",
    "def send_coordinates(x,y):\n",
    "\tCoordinateData=eSepChar.STX_CHAR.value + eMsgType.MSG_COORDINATE.value + x.to_bytes(2,'little')+y.to_bytes(2,'little')+eSepChar.ETX_CHAR.value\n",
    "\tprint(\"Printing coordinate data\")\n",
    "\tprint(CoordinateData)\n",
    "\tser.write(CoordinateData) "
   ]
  },
  {
   "cell_type": "code",
   "execution_count": null,
   "id": "11ef08ba",
   "metadata": {},
   "outputs": [],
   "source": [
    "def AutoAim_Heartbeat(x,y,verbosity):\n",
    "    #this is cv, arduino is control\n",
    "\ttry: #try to print your current state - if you can, they must be defined, so print them\n",
    "\t\tprintLog(AutoAim_Heartbeat.Heartbeat_State,VERBOSITY_DEBUG)\n",
    "\t\tprintLog(AutoAim_Heartbeat.Reader_State,VERBOSITY_DEBUG)\n",
    "\texcept: #if not, they are undefined, so go ahead and define them\n",
    "\t\tAutoAim_Heartbeat.Heartbeat_State = eAutoAimState.AUTO_AIM_INIT\n",
    "\t\tAutoAim_Heartbeat.Reader_State = eReaderState.READ_STX\n",
    "\t\n",
    "\tif AutoAim_Heartbeat.Heartbeat_State == eAutoAimState.AUTO_AIM_INIT:\n",
    "\t\tser.reset_input_buffer()\n",
    "\t\tser.reset_output_buffer()\n",
    "\t\tprint(\"Reactor online. Sensors online. Weapons online. All systems nominal.\\n\")\n",
    "\t\tsend_coordinates(x,y)\n",
    "\t\tAutoAim_Heartbeat.Heartbeat_State = eAutoAimState.AUTO_AIM_IDLE;#change to idle mode\n",
    "\telif AutoAim_Heartbeat.Heartbeat_State == eAutoAimState.AUTO_AIM_IDLE:#if in idle mode\n",
    "\t\t#polling for control msg, if auto aim mode start msg received, ACK back\n",
    "        #where should the no consecutive timer be implemented? \n",
    "\t\tif ser.inWaiting()>0:\n",
    "\t\t\tif AutoAim_Heartbeat.Reader_State == eReaderState.READ_STX: \n",
    "\t\t\t\tif ser.read(1) == eSepChar.STX_CHAR.value: #check if the first bit is the STX value\n",
    "\t\t\t\t\tAutoAim_Heartbeat.Reader_State = eReaderState.READ_PAYLOAD\t#if yes, enter reading state\n",
    "\t\t\telif AutoAim_Heartbeat.Reader_State == eReaderState.READ_PAYLOAD: \n",
    "\t\t\t\tif ser.read(1) == eMsgType.MODE_CONTROL.value: #check if the bit you are recieving is telling you to change mode\n",
    "                    #does ser.read read the first bit, or 1 of the next bit? fix this\n",
    "                    #read number probably wrong here, update it\n",
    "\t\t\t\t\tnewState = int(ser.read(1)) #read the next bit\n",
    "\t\t\t\t\tACKData = eSepChar.STX_CHAR.value + eSepChar.ACK.value + eSepChar.ACK_ASCII.value + eSepChar.UNUSED.value + eSepChar.ETX_CHAR.value\n",
    "\t\t\t\t\tif newState==eAutoAimState.AUTO_AIM_INIT: \n",
    "\t\t\t\t\t\tAutoAim_Heartbeat.Heartbeat_State = eAutoAimState.AUTO_AIM_INIT\n",
    "\t\t\t\t\t\tprint(\"I am changing my mode to initialization\\n\") #send acknowledgement \n",
    "\t\t\t\t\t\tprint(ACKData)\n",
    "\t\t\t\t\t\tser.write(ACKData)\n",
    "\t\t\t\t\telif newState==eAutoAimState.AUTO_AIM_IDLE:                  \n",
    "\t\t\t\t\t\tAutoAim_Heartbeat.Heartbeat_State = eAutoAimState.AUTO_AIM_IDLE\n",
    "\t\t\t\t\t\tprint(\"I am changing my mode to idle\\n\") #send acknowledgement \n",
    "\t\t\t\t\t\tprint(ACKData)\n",
    "\t\t\t\t\t\tser.write(ACKData)\n",
    "\t\t\t\t\telif newState==eAutoAimState.AUTO_AIM_SLEEP:\n",
    "\t\t\t\t\t\tAutoAim_Heartbeat.Heartbeat_State = eAutoAimState.AUTO_AIM_SLEEP\n",
    "\t\t\t\t\t\tprint(\"I am changing my mode to waiting for sleep\\n\") #send acknowledgement\n",
    "\t\t\t\t\t\tprint(ACKData)\n",
    "\t\t\t\t\t\tser.write(ACKData)\n",
    "\t\t\t\telse:\n",
    "\t\t\t\t\tAutoAim_Heartbeat.Reader_State = eReaderState.READ_ERROR #read something wrong, throw error\n",
    "\t\t\telse:\n",
    "\t\t\t\tprintLog(\"Unexpected AutoAim API state!\")\n",
    "\t\t\t\traise RuntimeError\n",
    "\t\t#cc = ser.read(ser.inWaiting())\n",
    "\t\t#print(cc.decode())\n",
    "\t\t#print(cc)\n",
    "\telif AutoAim_Heartbeat.Heartbeat_State == eAutoAimState.AUTO_AIM_SLEEP:\n",
    "\t    #send acknowledgement\n",
    "\t\tser.write(eSepChar.STX_CHAR + eMsgType.MODE_CONTROL + eSepChar.ACK_ASCII + eSepChar.ETX_CHAR ) \n",
    "\t\tprint(\"Auto aim disabled.\")\n",
    "\telse:\n",
    "\t\tprintLog(\"Unexpected AutoAim API state!\")\n",
    "\t\traise RuntimeError\n",
    "\n",
    "\n",
    "\t# CV should turn off if state is not active to save battery\n",
    "\tfCvActive = not (AutoAim_Heartbeat.Heartbeat_State in (eAutoAimState.AUTO_AIM_IDLE,eAutoAimState.AUTO_AIM_SLEEP))\n",
    "\treturn fCvActive\n",
    "\n",
    "#for the sake of testing \n",
    "AutoAim_Heartbeat(69,42,1)"
   ]
  },
  {
   "cell_type": "code",
   "execution_count": null,
   "id": "ae959905",
   "metadata": {},
   "outputs": [],
   "source": [
    "bytes(0x02).decode()"
   ]
  },
  {
   "cell_type": "code",
   "execution_count": 21,
   "id": "a2fafa32",
   "metadata": {},
   "outputs": [],
   "source": [
    "import struct\n",
    "def AutoAim_Heartbeat(x,y,verbosity):\n",
    "\t# setup static variable\n",
    "    #this is cv, arduino is control\n",
    "\ttry: #is this backwards? i need to review try except statements\n",
    "\t\tprintLog(AutoAim_Heartbeat.Heartbeat_State,VERBOSITY_DEBUG)\n",
    "\t\tprintLog(AutoAim_Heartbeat.Reader_State,VERBOSITY_DEBUG)\n",
    "\texcept:\n",
    "\t\t# main state, the state of the autoaim\n",
    "\t\tAutoAim_Heartbeat.Heartbeat_State = eAutoAimState.AUTO_AIM_INIT\n",
    "\t\t# sub state, your reader state\n",
    "\t\tAutoAim_Heartbeat.Reader_State = eReaderState.READ_STX\n",
    "\t\n",
    "\tif AutoAim_Heartbeat.Heartbeat_State == eAutoAimState.AUTO_AIM_INIT:\n",
    "\t\tser.reset_input_buffer()\n",
    "\t\tser.reset_output_buffer() #+ eMsgType.MODE_CONTROL.value + eSepChar.ACK_ASCII.value + eSepChar.ETX_CHAR.value)\n",
    "\t\tACKData = eSepChar.STX_CHAR.value + eSepChar.ACK.value + eSepChar.ACK_ASCII.value + eSepChar.UNUSED.value + eSepChar.ETX_CHAR.value\n",
    "\t\tprint(ACKData)\n",
    "\t\tser.write(ACKData)\n",
    "#for the sake of testing \n",
    "AutoAim_Heartbeat(10,10,1)\n"
   ]
  },
  {
   "cell_type": "markdown",
   "id": "5f1a0bd9",
   "metadata": {},
   "source": [
    "## Unit test"
   ]
  },
  {
   "cell_type": "code",
   "execution_count": null,
   "id": "f460e34f",
   "metadata": {},
   "outputs": [],
   "source": [
    "AutoAim_Heartbeat(10,10,1)"
   ]
  }
 ],
 "metadata": {
  "kernelspec": {
   "display_name": "Python 3.9.0 64-bit",
   "language": "python",
   "name": "python3"
  },
  "language_info": {
   "codemirror_mode": {
    "name": "ipython",
    "version": 3
   },
   "file_extension": ".py",
   "mimetype": "text/x-python",
   "name": "python",
   "nbconvert_exporter": "python",
   "pygments_lexer": "ipython3",
   "version": "3.9.0"
  },
  "vscode": {
   "interpreter": {
    "hash": "35be2c1b6ac9976a45ae99aba197dafc6f2e6958aebaedb8681b869a8bee737f"
   }
  }
 },
 "nbformat": 4,
 "nbformat_minor": 5
}
