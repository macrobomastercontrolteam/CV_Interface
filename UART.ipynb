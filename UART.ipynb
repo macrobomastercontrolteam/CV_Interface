{
 "cells": [
  {
   "cell_type": "code",
   "execution_count": 3,
   "id": "c24e22e5",
   "metadata": {},
   "outputs": [],
   "source": [
    "for i in range(10):\n",
    "    ser.write(b'hello world')"
   ]
  },
  {
   "cell_type": "code",
   "execution_count": 4,
   "id": "41f13eb4",
   "metadata": {},
   "outputs": [
    {
     "data": {
      "text/plain": [
       "11"
      ]
     },
     "execution_count": 4,
     "metadata": {},
     "output_type": "execute_result"
    }
   ],
   "source": [
    "ser.write(b'hello world')"
   ]
  },
  {
   "cell_type": "markdown",
   "id": "fbb76f7b",
   "metadata": {},
   "source": [
    "# Setup"
   ]
  },
  {
   "cell_type": "code",
   "execution_count": 1,
   "id": "2279f60e",
   "metadata": {},
   "outputs": [],
   "source": [
    "import time\n",
    "import serial\n",
    "ser = serial.Serial(port='/dev/serial0',baudrate=9600,parity=serial.PARITY_NONE,stopbits=serial.STOPBITS_ONE,bytesize=serial.EIGHTBITS,timeout=1)"
   ]
  },
  {
   "cell_type": "code",
   "execution_count": 3,
   "id": "cab1299c",
   "metadata": {},
   "outputs": [],
   "source": [
    "from enum import Enum\n",
    "\n",
    "VERBOSITY_QUIET = 0\n",
    "VERBOSITY_DEBUG = 1\n",
    "Global_Verbosity = VERBOSITY_QUIET\n",
    "\n",
    "\n",
    "def set_Verbosity(verbosity):\n",
    "    Global_Verbosity = verbosity\n",
    "\n",
    "\n",
    "def printLog(str, verbosity):\n",
    "    if verbosity <= Global_Verbosity:\n",
    "        print(str)\n",
    "\n",
    "class eMsgType(Enum):\n",
    "    MODE_CONTROL = 0x10 #mode control\n",
    "    COORDINATE = 0x20 #enemy coordinate\n",
    "    ACK_BIT = 0x40 #always respond with the bit + this value of 40\n",
    "\n",
    "\n",
    "class eSepChar(Enum): #start and ending hexes, acknowledgement bit\n",
    "    STX_CHAR = 0x02\n",
    "    ETX_CHAR = 0x03\n",
    "    ACK_ASCII = b'ACK' \n",
    "\n",
    "\n",
    "class eAutoAimState(Enum):\n",
    "    AUTO_AIM_INIT = 0 #turn on\n",
    "    AUTO_AIM_IDLE = 1 #wait\n",
    "    AUTO_AIM_SEND_COORDINATE = 2\n",
    "    AUTO_AIM_WAIT_FOR_ACK = 3\n",
    "    AUTO_AIM_SLEEP = 4 #turn off\n",
    "\n",
    "class eReaderState(Enum):\n",
    "    READ_STX = 0\n",
    "    READ_PAYLOAD = 1\n",
    "    READ_ERROR = 2\n"
   ]
  },
  {
   "cell_type": "code",
   "execution_count": 16,
   "id": "11ef08ba",
   "metadata": {},
   "outputs": [
    {
     "ename": "TabError",
     "evalue": "inconsistent use of tabs and spaces in indentation (<ipython-input-16-af960430d055>, line 16)",
     "output_type": "error",
     "traceback": [
      "\u001b[0;36m  File \u001b[0;32m\"<ipython-input-16-af960430d055>\"\u001b[0;36m, line \u001b[0;32m16\u001b[0m\n\u001b[0;31m    ser.write(eSepChar.STX_CHAR + eMsgType.MODE_CONTROL + eSepChar.ACK_ASCII + eSepChar.ETX_CHAR )\u001b[0m\n\u001b[0m                                                                                                   ^\u001b[0m\n\u001b[0;31mTabError\u001b[0m\u001b[0;31m:\u001b[0m inconsistent use of tabs and spaces in indentation\n"
     ]
    }
   ],
   "source": [
    "def AutoAim_Heartbeat(x,y,verbosity):\n",
    "\t# setup static variable\n",
    "    #this is cv, arduino is control\n",
    "\ttry: #is this backwards? i need to review try except statements\n",
    "\t\tprintLog(AutoAim_Heartbeat.Heartbeat_State,VERBOSITY_DEBUG)\n",
    "\t\tprintLog(AutoAim_Heartbeat.Reader_State,VERBOSITY_DEBUG)\n",
    "\texcept:\n",
    "\t\t# main state, the state of the autoaim\n",
    "\t\tAutoAim_Heartbeat.Heartbeat_State = eAutoAimState.AUTO_AIM_INIT\n",
    "\t\t# sub state, your reader state\n",
    "\t\tAutoAim_Heartbeat.Reader_State = eReaderState.READ_STX\n",
    "\t\n",
    "\tif AutoAim_Heartbeat.Heartbeat_State == eAutoAimState.AUTO_AIM_INIT:\n",
    "\t\tser.reset_input_buffer()\n",
    "\t\tser.reset_output_buffer()\n",
    "        ser.write(eSepChar.STX_CHAR + eMsgType.MODE_CONTROL + eSepChar.ACK_ASCII + eSepChar.ETX_CHAR ) \n",
    "        #send acknowledgement saying my mode has changed\n",
    "\t\tprint(\"Reactor online. Sensors online. Weapons online. All systems nominal.\")\n",
    "\telif AutoAim_Heartbeat.Heartbeat_State == eAutoAimState.AUTO_AIM_IDLE:#if in idle mode\n",
    "\t\t# polling for control msg, if auto aim mode start msg received, ACK back\n",
    "        \n",
    "        #where should the no consecutive timer be implemented? \n",
    "\t\tif ser.inWaiting()>0:\n",
    "\t\t\tif AutoAim_Heartbeat.Reader_State == eReaderState.READ_STX: #if you are reading STX\n",
    "\t\t\t\tif ser.read(1) == eSepChar.STX_CHAR.value: #check if the first bit is the STX value\n",
    "\t\t\t\t\tAutoAim_Heartbeat.Reader_State = eReaderState.READ_PAYLOAD\t#if yes, enter reading state\n",
    "\t\t\telif AutoAim_Heartbeat.Reader_State == eReaderState.READ_PAYLOAD: #if in reading state\n",
    "\t\t\t\tif ser.read(1) == eMsgType.MODE_CONTROL.value: #check if the bit you are recieving is telling you to change mode\n",
    "                    #does ser.read read the first bit, or 1 of the next bit? fix thi\n",
    "                    #read number probably wrong here, update it\n",
    "                    #read the next bit\n",
    "                    newState = ser.read(1)\n",
    "                    match newState: #switch case, swap based on the bit that was read\n",
    "                        case eAutoAimState.AUTO_AIM_INIT:\n",
    "                            AutoAim_Heartbeat.Heartbeat_State = eAutoAimState.AUTO_AIM_INIT\n",
    "                            print(\"I am changing my mode to initialization\")\n",
    "                        case eAutoAimState.AUTO_AIM_IDLE:\n",
    "                            AutoAim_Heartbeat.Heartbeat_State = eAutoAimState.AUTO_AIM_IDLE\n",
    "                            print(\"I am changing my mode to idle\")\n",
    "                        case eAutoAimState.AUTO_AIM_SEND_COORDINATE:\n",
    "                            AutoAim_Heartbeat.Heartbeat_State = eAutoAimState.AUTO_AIM_SEND_COORDINATE\n",
    "                            print(\"I am changing my mode to send coordinates\")\n",
    "                        case eAutoAimState.AUTO_AIM_WAIT_FOR_ACK:\n",
    "                            AutoAim_Heartbeat.Heartbeat_State = eAutoAimState.AUTO_AIM_WAIT_FOR_ACK\n",
    "                            print(\"I am changing my mode to waiting for acknowledgement\")\n",
    "                        case eAutoAimState.AUTO_AIM_SLEEP:\n",
    "                            AutoAim_Heartbeat.Heartbeat_State = eAutoAimState.AUTO_AIM_SLEEP\n",
    "                            print(\"I am changing my mode to waiting for sleep\")\n",
    "                    #send acknowledgement\n",
    "                    ser.write(eSepChar.STX_CHAR + eMsgType.MODE_CONTROL + eSepChar.ACK_ASCII + eSepChar.ETX_CHAR ) \n",
    "\t\t\t\telse:\n",
    "\t\t\t\t\tAutoAim_Heartbeat.Reader_State = eReaderState.READ_ERROR #read something wrong, throw error\n",
    "\t\t\telse:\n",
    "\t\t\t\tprintLog(\"Unexpected AutoAim API state!\")\n",
    "\t\t\t\traise RuntimeError\n",
    "\t\tcc = ser.read(ser.inWaiting())\n",
    "\t\tprint(cc.decode())\n",
    "\t\tprint(cc)\n",
    "        \n",
    "\telif AutoAim_Heartbeat.Heartbeat_State == eAutoAimState.AUTO_AIM_SEND_COORDINATE:\n",
    "        #CV to Control: Enemy coordinate \n",
    "        ser.write(eSepChar.STX_CHAR + eMsgType.COORDINATE + x + y + eSepChar.ETX_CHAR ) #the x + y might not be the correct form\n",
    "        print(\"sending coordinates: \" + x + \", \" + y)\n",
    "\telif AutoAim_Heartbeat.Heartbeat_State == eAutoAimState.AUTO_AIM_WAIT_FOR_ACK:\n",
    "        \n",
    "        print(\"waiting for acknowledgement from control.\") #Idk what to do here\n",
    "\telif AutoAim_Heartbeat.Heartbeat_State == eAutoAimState.AUTO_AIM_SLEEP:\n",
    "\t    #send acknowledgement\n",
    "        ser.write(eSepChar.STX_CHAR + eMsgType.MODE_CONTROL + eSepChar.ACK_ASCII + eSepChar.ETX_CHAR ) \n",
    "        print(\"Auto aim disabled.\")\n",
    "    else:\n",
    "\t\tprintLog(\"Unexpected AutoAim API state!\")\n",
    "\t\traise RuntimeError\n",
    "\n",
    "\n",
    "\t# CV should turn off if state is not active to save battery\n",
    "\tfCvActive = not (AutoAim_Heartbeat.Heartbeat_State in (eAutoAimState.AUTO_AIM_IDLE,eAutoAimState.AUTO_AIM_SLEEP))\n",
    "\treturn fCvActive"
   ]
  },
  {
   "cell_type": "code",
   "execution_count": null,
   "id": "ae959905",
   "metadata": {},
   "outputs": [],
   "source": [
    "bytes(0x02).decode()"
   ]
  },
  {
   "cell_type": "markdown",
   "id": "5f1a0bd9",
   "metadata": {},
   "source": [
    "## Unit test"
   ]
  },
  {
   "cell_type": "code",
   "execution_count": null,
   "id": "f460e34f",
   "metadata": {},
   "outputs": [],
   "source": [
    "AutoAim_Heartbeat()"
   ]
  }
 ],
 "metadata": {
  "kernelspec": {
   "display_name": "Python 3",
   "language": "python",
   "name": "python3"
  },
  "language_info": {
   "codemirror_mode": {
    "name": "ipython",
    "version": 3
   },
   "file_extension": ".py",
   "mimetype": "text/x-python",
   "name": "python",
   "nbconvert_exporter": "python",
   "pygments_lexer": "ipython3",
   "version": "3.7.3"
  },
  "vscode": {
   "interpreter": {
    "hash": "35be2c1b6ac9976a45ae99aba197dafc6f2e6958aebaedb8681b869a8bee737f"
   }
  }
 },
 "nbformat": 4,
 "nbformat_minor": 5
}
